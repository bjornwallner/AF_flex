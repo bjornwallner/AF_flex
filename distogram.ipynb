{
 "cells": [
  {
   "cell_type": "code",
   "execution_count": 1,
   "id": "7284d306",
   "metadata": {},
   "outputs": [],
   "source": [
    "import sys\n",
    "from numpy import NaN, Inf, arange, isscalar, asarray, array\n",
    "\n",
    "def peakdet(v, delta, x = None):\n",
    "    \"\"\"\n",
    "    Converted from MATLAB script at http://billauer.co.il/peakdet.html\n",
    "    \n",
    "    Returns two arrays\n",
    "    \n",
    "    function [maxtab, mintab]=peakdet(v, delta, x)\n",
    "    %PEAKDET Detect peaks in a vector\n",
    "    %        [MAXTAB, MINTAB] = PEAKDET(V, DELTA) finds the local\n",
    "    %        maxima and minima (\"peaks\") in the vector V.\n",
    "    %        MAXTAB and MINTAB consists of two columns. Column 1\n",
    "    %        contains indices in V, and column 2 the found values.\n",
    "    %      \n",
    "    %        With [MAXTAB, MINTAB] = PEAKDET(V, DELTA, X) the indices\n",
    "    %        in MAXTAB and MINTAB are replaced with the corresponding\n",
    "    %        X-values.\n",
    "    %\n",
    "    %        A point is considered a maximum peak if it has the maximal\n",
    "    %        value, and was preceded (to the left) by a value lower by\n",
    "    %        DELTA.\n",
    "    \n",
    "    % Eli Billauer, 3.4.05 (Explicitly not copyrighted).\n",
    "    % This function is released to the public domain; Any use is allowed.\n",
    "    \n",
    "    \"\"\"\n",
    "    maxtab = []\n",
    "    mintab = []\n",
    "       \n",
    "    if x is None:\n",
    "        x = arange(len(v))\n",
    "    \n",
    "    v = asarray(v)\n",
    "    \n",
    "    if len(v) != len(x):\n",
    "        sys.exit('Input vectors v and x must have same length')\n",
    "    \n",
    "    if not isscalar(delta):\n",
    "        sys.exit('Input argument delta must be a scalar')\n",
    "    \n",
    "    if delta <= 0:\n",
    "        sys.exit('Input argument delta must be positive')\n",
    "    \n",
    "    mn, mx = Inf, -Inf\n",
    "    mnpos, mxpos = NaN, NaN\n",
    "    \n",
    "    lookformax = True\n",
    "    \n",
    "    for i in arange(len(v)):\n",
    "        this = v[i]\n",
    "        if this > mx:\n",
    "            mx = this\n",
    "            mxpos = x[i]\n",
    "        if this < mn:\n",
    "            mn = this\n",
    "            mnpos = x[i]\n",
    "        \n",
    "        if lookformax:\n",
    "            if this < mx-delta:\n",
    "                maxtab.append((mxpos, mx))\n",
    "                mn = this\n",
    "                mnpos = x[i]\n",
    "                lookformax = False\n",
    "        else:\n",
    "            if this > mn+delta:\n",
    "                mintab.append((mnpos, mn))\n",
    "                mx = this\n",
    "                mxpos = x[i]\n",
    "                lookformax = True\n",
    "\n",
    "    return array(maxtab), array(mintab)"
   ]
  },
  {
   "cell_type": "code",
   "execution_count": 22,
   "id": "0b30360d",
   "metadata": {},
   "outputs": [
    {
     "name": "stdout",
     "output_type": "stream",
     "text": [
      "dict_keys(['bin_edges', 'logits'])\n",
      "[ 2.3125     2.625      2.9375     3.25       3.5625     3.875\n",
      "  4.1875     4.5        4.8125     5.125      5.4375     5.75\n",
      "  6.0625     6.375      6.6875     6.9999995  7.3125     7.625\n",
      "  7.9375     8.25       8.5625     8.875      9.1875     9.5\n",
      "  9.812499  10.124999  10.4375    10.75      11.0625    11.375\n",
      " 11.687499  12.        12.3125    12.625     12.9375    13.25\n",
      " 13.5625    13.874999  14.187501  14.499999  14.812499  15.124999\n",
      " 15.437499  15.75      16.0625    16.375     16.687502  16.999998\n",
      " 17.312498  17.624998  17.937498  18.25      18.5625    18.875\n",
      " 19.1875    19.5       19.8125    20.125     20.437498  20.75\n",
      " 21.062498  21.374998  21.6875   ]\n",
      "[ 2.46875    2.78125    3.09375    3.40625    3.71875    4.03125\n",
      "  4.34375    4.65625    4.96875    5.28125    5.59375    5.90625\n",
      "  6.21875    6.53125    6.84375    7.1562495  7.46875    7.78125\n",
      "  8.09375    8.40625    8.71875    9.03125    9.34375    9.65625\n",
      "  9.968749  10.281249  10.59375   10.90625   11.21875   11.53125\n",
      " 11.843749  12.15625   12.46875   12.78125   13.09375   13.40625\n",
      " 13.71875   14.031249  14.343751  14.656249  14.968749  15.281249\n",
      " 15.593749  15.90625   16.21875   16.53125   16.843752  17.156248\n",
      " 17.468748  17.781248  18.093748  18.40625   18.71875   19.03125\n",
      " 19.34375   19.65625   19.96875   20.28125   20.593748  20.90625\n",
      " 21.218748  21.531248  21.84375  ]\n",
      "0.3125\n",
      "[ 2.3125     2.625      2.9375     3.25       3.5625     3.875\n",
      "  4.1875     4.5        4.8125     5.125      5.4375     5.75\n",
      "  6.0625     6.375      6.6875     6.9999995  7.3125     7.625\n",
      "  7.9375     8.25       8.5625     8.875      9.1875     9.5\n",
      "  9.812499  10.124999  10.4375    10.75      11.0625    11.375\n",
      " 11.687499  12.        12.3125    12.625     12.9375    13.25\n",
      " 13.5625    13.874999  14.187501  14.499999  14.812499  15.124999\n",
      " 15.437499  15.75      16.0625    16.375     16.687502  16.999998\n",
      " 17.312498  17.624998  17.937498  18.25      18.5625    18.875\n",
      " 19.1875    19.5       19.8125    20.125     20.437498  20.75\n",
      " 21.062498  21.374998  21.6875   ]\n"
     ]
    }
   ],
   "source": [
    "import numpy as np\n",
    "import pickle\n",
    "import matplotlib.pyplot as plt\n",
    "\n",
    "def softmax(x):\n",
    "    f_x = np.exp(x) / np.sum(np.exp(x))\n",
    "    return f_x\n",
    "def expit(x):\n",
    "\n",
    "    f_x=1/(1+np.exp(-x)) \n",
    "    return f_x\n",
    "\n",
    "pickle_file='result_model_1_msas1_chainbreak_offset200_recycles3_1.pkl'\n",
    "results=pickle.load(open(pickle_file,'rb'))\n",
    "print(results['distogram'].keys())\n",
    "bin_edges=results['distogram']['bin_edges']\n",
    "bin_size=bin_edges[1]-bin_edges[0]\n",
    "#convert the bin_edges to bin_centers\n",
    "print(bin_edges)\n",
    "x=bin_edges+bin_size/2\n",
    "print(x)\n",
    "print(bin_size)\n",
    "#Add the first bin center to the begining of x to complete the conversion\n",
    "first_bin=bin_edges[0]-bin_size/2\n",
    "x=np.insert(x,0,first_bin)\n",
    "print(bin_edges)"
   ]
  },
  {
   "cell_type": "code",
   "execution_count": 35,
   "id": "48eba0f3",
   "metadata": {
    "scrolled": true
   },
   "outputs": [
    {
     "name": "stdout",
     "output_type": "stream",
     "text": [
      "(193, 193, 64)\n",
      "64\n"
     ]
    },
    {
     "data": {
      "image/png": "[encoded data removed]",
      "text/plain": [
       "<Figure size 432x288 with 1 Axes>"
      ]
     },
     "metadata": {
      "needs_background": "light"
     },
     "output_type": "display_data"
    },
    {
     "data": {
      "text/plain": [
       "array([[20.90625   ,  0.27047604]], dtype=float32)"
      ]
     },
     "execution_count": 35,
     "metadata": {},
     "output_type": "execute_result"
    }
   ],
   "source": [
    "distogram=results['distogram']['logits']\n",
    "print(results['distogram']['logits'].shape)\n",
    "print(len(x))\n",
    "#Took a random position that I know was in contact just to get something\n",
    "pos1=5\n",
    "pos2=28\n",
    "y=distogram[pos1-1][pos2-1]\n",
    "#the distogram are logits and need to be converted to probablity using softmax\n",
    "#\n",
    "prob=softmax(y)\n",
    "#prob2=expit(y)\n",
    "#print(y)\n",
    "#print(prob)\n",
    "plt.plot(x,prob)\n",
    "#plt.plot(x,prob2)\n",
    "#plt.plot(x,y_S)\n",
    "plt.show()\n",
    "(maxima,minima)=peakdet(prob,0.03,x)\n",
    "maxima"
   ]
  },
  {
   "cell_type": "code",
   "execution_count": 51,
   "id": "13991c19",
   "metadata": {},
   "outputs": [],
   "source": [
    "#Example Search for all maximas\n",
    "N=distogram.shape[0] #this is the length of the pdb\n",
    "\n",
    "for i in range(N):\n",
    "    for j in range(N):\n",
    "        if j<=i: #skipping symmetric pairs\n",
    "            continue\n",
    "        prob=softmax(distogram[i][j])\n",
    "        #prob=expit(distogram[i][j])\n",
    "        (maxima,minima)=peakdet(prob,0.03,x)\n",
    "        n=len(maxima)\n",
    "        if(n >1):\n",
    "            print(f'Found {n} maxima for pair {i+1},{j+1}: {maxima.flatten().tolist()}')\n",
    "        #print(len(maxima))\n",
    "            print(maxima.shape)"
   ]
  },
  {
   "cell_type": "code",
   "execution_count": null,
   "id": "84d673ff",
   "metadata": {},
   "outputs": [],
   "source": []
  }
 ],
 "metadata": {
  "kernelspec": {
   "display_name": "base",
   "language": "python",
   "name": "base"
  },
  "language_info": {
   "codemirror_mode": {
    "name": "ipython",
    "version": 3
   },
   "file_extension": ".py",
   "mimetype": "text/x-python",
   "name": "python",
   "nbconvert_exporter": "python",
   "pygments_lexer": "ipython3",
   "version": "3.7.9"
  }
 },
 "nbformat": 4,
 "nbformat_minor": 5
}
